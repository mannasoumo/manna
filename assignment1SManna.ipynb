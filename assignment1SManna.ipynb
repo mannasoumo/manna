{
  "nbformat": 4,
  "nbformat_minor": 0,
  "metadata": {
    "colab": {
      "name": "assignment1SManna.ipynb",
      "provenance": [],
      "collapsed_sections": [],
      "authorship_tag": "ABX9TyP66M25OWXpTjVEan8EOYQk",
      "include_colab_link": true
    },
    "kernelspec": {
      "name": "python3",
      "display_name": "Python 3"
    }
  },
  "cells": [
    {
      "cell_type": "markdown",
      "metadata": {
        "id": "view-in-github",
        "colab_type": "text"
      },
      "source": [
        "<a href=\"https://colab.research.google.com/github/mannasoumo/manna/blob/main/assignment1SManna.ipynb\" target=\"_parent\"><img src=\"https://colab.research.google.com/assets/colab-badge.svg\" alt=\"Open In Colab\"/></a>"
      ]
    },
    {
      "cell_type": "code",
      "metadata": {
        "colab": {
          "base_uri": "https://localhost:8080/"
        },
        "id": "_QKceDHxm1ku",
        "outputId": "c84e4b8f-026f-4145-d1b6-75ff57bfbbc7"
      },
      "source": [
        "def fun(n):\n",
        "    print( n*n)\n",
        "fun(5)"
      ],
      "execution_count": null,
      "outputs": [
        {
          "output_type": "stream",
          "text": [
            "25\n"
          ],
          "name": "stdout"
        }
      ]
    },
    {
      "cell_type": "code",
      "metadata": {
        "colab": {
          "base_uri": "https://localhost:8080/"
        },
        "id": "3njW2bU4wkKy",
        "outputId": "12928ae1-4af7-418a-86c7-848de27c3e73"
      },
      "source": [
        "def calculateSum (a,b):\r\n",
        "\ts = int(a) + int(b)\r\n",
        "\treturn s \r\n",
        "num1 = \"10\"\r\n",
        "num2 = \"20\"\r\n",
        "sum = calculateSum (num1, num2)\r\n",
        "print( \"Sum = \", sum)"
      ],
      "execution_count": null,
      "outputs": [
        {
          "output_type": "stream",
          "text": [
            "Sum =  30\n"
          ],
          "name": "stdout"
        }
      ]
    },
    {
      "cell_type": "code",
      "metadata": {
        "colab": {
          "base_uri": "https://localhost:8080/"
        },
        "id": "rCiJuODFw1gv",
        "outputId": "644db12a-e811-4add-8091-1fc9269708eb"
      },
      "source": [
        "s1 = input('enter the first string:\\n')\r\n",
        "s2 = input('enter the second string:\\n')\r\n",
        "def fn(s1,s2):\r\n",
        "    print('Concatenated String =', s1 + s2)\r\n",
        "fn(s1,s2)    "
      ],
      "execution_count": null,
      "outputs": [
        {
          "output_type": "stream",
          "text": [
            "enter the first string:\n",
            "hello\n",
            "enter the second string:\n",
            "world\n",
            "Concatenated String = helloworld\n"
          ],
          "name": "stdout"
        }
      ]
    },
    {
      "cell_type": "code",
      "metadata": {
        "colab": {
          "base_uri": "https://localhost:8080/"
        },
        "id": "cN6uba89xV1w",
        "outputId": "d8235e87-70d9-43c3-f524-96e836c6999d"
      },
      "source": [
        "def length_of_string(str1, str2):\r\n",
        "\tif (len(str1) == len(str2)):\r\n",
        "\t\tprint(str1)\r\n",
        "\t\t#print(\"\\n\")\r\n",
        "\t\tprint(str2)\r\n",
        "\r\n",
        "\telif (len(str1) < len(str2)):\r\n",
        "\t\tprint(str2)\r\n",
        "\t\r\n",
        "\telse:\r\n",
        "\t\tprint(str1)\r\n",
        "\r\n",
        "stri1 = input(str(\"enter First String: \"))\r\n",
        "stri2 = input(str(\"enter Second String: \"))\r\n",
        "\r\n",
        "print(\"\\n\")\r\n",
        "\r\n",
        "length_of_string(stri1, stri2)"
      ],
      "execution_count": null,
      "outputs": [
        {
          "output_type": "stream",
          "text": [
            "enter First String: hi\n",
            "enter Second String: world\n",
            "\n",
            "\n",
            "world\n"
          ],
          "name": "stdout"
        }
      ]
    },
    {
      "cell_type": "code",
      "metadata": {
        "colab": {
          "base_uri": "https://localhost:8080/"
        },
        "id": "Fn48-_GH4jbJ",
        "outputId": "5ddf4d3a-4288-4f5e-8710-efd4fd694b17"
      },
      "source": [
        "def fn(n):\r\n",
        " if (n%2==0):\r\n",
        "    print(\"It is an even number\")\r\n",
        " else:   \r\n",
        "    print(\"It is an odd number\")\r\n",
        "b = int(input(\"enter the no  :  \"))\r\n",
        "fn(b)"
      ],
      "execution_count": null,
      "outputs": [
        {
          "output_type": "stream",
          "text": [
            "enter the no  :  9\n",
            "It is an odd number\n"
          ],
          "name": "stdout"
        }
      ]
    },
    {
      "cell_type": "code",
      "metadata": {
        "colab": {
          "base_uri": "https://localhost:8080/"
        },
        "id": "MYfHaM3a66jy",
        "outputId": "40e76dbd-8dd6-4d67-c589-12bad0dbbcc2"
      },
      "source": [
        "def fn():\r\n",
        "  d=dict()\r\n",
        "  for x in range(1,4):\r\n",
        "    d[x]=x**2\r\n",
        "  print(d)\r\n",
        "fn() "
      ],
      "execution_count": null,
      "outputs": [
        {
          "output_type": "stream",
          "text": [
            "{1: 1, 2: 4, 3: 9}\n"
          ],
          "name": "stdout"
        }
      ]
    },
    {
      "cell_type": "code",
      "metadata": {
        "colab": {
          "base_uri": "https://localhost:8080/"
        },
        "id": "e_2Do_op8HfB",
        "outputId": "fa9e1e6b-6147-485b-bb4d-f225ce9f66ef"
      },
      "source": [
        "def fn():\r\n",
        "  d=dict()\r\n",
        "  for x in range(1,21):\r\n",
        "    d[x]=x**2\r\n",
        "  print(d)\r\n",
        "fn()"
      ],
      "execution_count": null,
      "outputs": [
        {
          "output_type": "stream",
          "text": [
            "{1: 1, 2: 4, 3: 9, 4: 16, 5: 25, 6: 36, 7: 49, 8: 64, 9: 81, 10: 100, 11: 121, 12: 144, 13: 169, 14: 196, 15: 225, 16: 256, 17: 289, 18: 324, 19: 361, 20: 400}\n"
          ],
          "name": "stdout"
        }
      ]
    },
    {
      "cell_type": "code",
      "metadata": {
        "colab": {
          "base_uri": "https://localhost:8080/"
        },
        "id": "YhU_gcmf8TJe",
        "outputId": "6a8ec57f-56fa-4fc2-e3ef-e48122e4ad5f"
      },
      "source": [
        "def fn():\r\n",
        "  d=dict()\r\n",
        "  for x in range(1,21):\r\n",
        "      print(x*x)\r\n",
        "fn()"
      ],
      "execution_count": null,
      "outputs": [
        {
          "output_type": "stream",
          "text": [
            "1\n",
            "4\n",
            "9\n",
            "16\n",
            "25\n",
            "36\n",
            "49\n",
            "64\n",
            "81\n",
            "100\n",
            "121\n",
            "144\n",
            "169\n",
            "196\n",
            "225\n",
            "256\n",
            "289\n",
            "324\n",
            "361\n",
            "400\n"
          ],
          "name": "stdout"
        }
      ]
    },
    {
      "cell_type": "code",
      "metadata": {
        "colab": {
          "base_uri": "https://localhost:8080/"
        },
        "id": "WlwI-87B9Mbk",
        "outputId": "30bda298-79b7-4241-9e19-692efc5ad23a"
      },
      "source": [
        "l = [1, 2, 3, 4, 5, 6, 7, 8, 9, 10] \r\n",
        "\r\n",
        "print(l[:5]) \r\n",
        "print(l[5:])"
      ],
      "execution_count": null,
      "outputs": [
        {
          "output_type": "stream",
          "text": [
            "[1, 2, 3, 4, 5]\n",
            "[6, 7, 8, 9, 10]\n"
          ],
          "name": "stdout"
        }
      ]
    },
    {
      "cell_type": "code",
      "metadata": {
        "colab": {
          "base_uri": "https://localhost:8080/"
        },
        "id": "wHc4GWS3r9r-",
        "outputId": "16873de3-3938-4ccb-e1d2-700014c66ec7"
      },
      "source": [
        "\r\n",
        "li = [1,2,3,4,5,6,7,8,9,10]\r\n",
        "squaredNumbers = map(lambda x: x**2, li) \r\n",
        "print(list(squaredNumbers))  "
      ],
      "execution_count": null,
      "outputs": [
        {
          "output_type": "stream",
          "text": [
            "[1, 4, 9, 16, 25, 36, 49, 64, 81, 100]\n"
          ],
          "name": "stdout"
        }
      ]
    },
    {
      "cell_type": "code",
      "metadata": {
        "colab": {
          "base_uri": "https://localhost:8080/"
        },
        "id": "HqH72uAQsDqE",
        "outputId": "df9046c6-3c7e-4b7d-cba4-0c7b32422856"
      },
      "source": [
        "\r\n",
        "def even(item):\r\n",
        "    if item % 2 == 0:\r\n",
        "        return item**2\r\n",
        "\r\n",
        "\r\n",
        "lst = [i for i in range(1, 11)]\r\n",
        "print(list(filter(lambda j: j is not None, list(map(even, lst)))))\r\n"
      ],
      "execution_count": null,
      "outputs": [
        {
          "output_type": "stream",
          "text": [
            "[4, 16, 36, 64, 100]\n"
          ],
          "name": "stdout"
        }
      ]
    },
    {
      "cell_type": "code",
      "metadata": {
        "colab": {
          "base_uri": "https://localhost:8080/"
        },
        "id": "jVqqOnIVsVyd",
        "outputId": "6d9208ed-b388-40e0-8596-692f9afc1a60"
      },
      "source": [
        "def even(x):\r\n",
        "    return x%2==0\r\n",
        "\r\n",
        "evenNumbers = filter(even, range(1,21))\r\n",
        "print(list(evenNumbers))"
      ],
      "execution_count": null,
      "outputs": [
        {
          "output_type": "stream",
          "text": [
            "[2, 4, 6, 8, 10, 12, 14, 16, 18, 20]\n"
          ],
          "name": "stdout"
        }
      ]
    },
    {
      "cell_type": "code",
      "metadata": {
        "colab": {
          "base_uri": "https://localhost:8080/"
        },
        "id": "p5gDkFz4swfI",
        "outputId": "aa8211a1-2f86-49b9-d388-c7abd814916a"
      },
      "source": [
        "class Circle():\r\n",
        "    def __init__(self,r):\r\n",
        "        self.radius = r\r\n",
        "\r\n",
        "    def area(self):\r\n",
        "        return 3.1416*(self.radius**2)\r\n",
        "\r\n",
        "\r\n",
        "circle = Circle(5)\r\n",
        "print(circle.area())"
      ],
      "execution_count": null,
      "outputs": [
        {
          "output_type": "stream",
          "text": [
            "78.53999999999999\n"
          ],
          "name": "stdout"
        }
      ]
    },
    {
      "cell_type": "code",
      "metadata": {
        "colab": {
          "base_uri": "https://localhost:8080/"
        },
        "id": "bDNM1evgs4ZV",
        "outputId": "a83084cb-d621-46be-d75e-940885b33d4d"
      },
      "source": [
        "class Rectangle():\r\n",
        "    def __init__(self,l,w):\r\n",
        "        self.length = l\r\n",
        "        self.width = w\r\n",
        "\r\n",
        "    def area(self):\r\n",
        "        return self.length*self.width\r\n",
        "\r\n",
        "\r\n",
        "rect = Rectangle(2,4)\r\n",
        "print(rect.area())"
      ],
      "execution_count": null,
      "outputs": [
        {
          "output_type": "stream",
          "text": [
            "8\n"
          ],
          "name": "stdout"
        }
      ]
    },
    {
      "cell_type": "code",
      "metadata": {
        "colab": {
          "base_uri": "https://localhost:8080/"
        },
        "id": "cq3Gj7vFs68L",
        "outputId": "d7f41c07-16d1-48a2-ab68-d0b4c11b0cb4"
      },
      "source": [
        "class Shape():\r\n",
        "    def __init__(self):\r\n",
        "        pass\r\n",
        "\r\n",
        "    def area(self):\r\n",
        "        return 0\r\n",
        "\r\n",
        "class Square(Shape):\r\n",
        "    def __init__(self,length = 0):\r\n",
        "        Shape.__init__(self)\r\n",
        "        self.length = length\r\n",
        "\r\n",
        "    def area(self):\r\n",
        "        return self.length*self.length\r\n",
        "Asqr = Square(5)\r\n",
        "print(Asqr.area())      \r\n",
        "print(Square().area()) "
      ],
      "execution_count": null,
      "outputs": [
        {
          "output_type": "stream",
          "text": [
            "25\n",
            "0\n"
          ],
          "name": "stdout"
        }
      ]
    },
    {
      "cell_type": "code",
      "metadata": {
        "colab": {
          "base_uri": "https://localhost:8080/"
        },
        "id": "jznGQORqtnbC",
        "outputId": "30e83015-5b36-4ad6-ff36-a7f0c531409d"
      },
      "source": [
        "n = int(input())\r\n",
        "fact = 1\r\n",
        "for i in range(1,n+1):\r\n",
        "    fact = fact * i\r\n",
        "print(fact)"
      ],
      "execution_count": null,
      "outputs": [
        {
          "output_type": "stream",
          "text": [
            "8\n",
            "40320\n"
          ],
          "name": "stdout"
        }
      ]
    },
    {
      "cell_type": "code",
      "metadata": {
        "colab": {
          "base_uri": "https://localhost:8080/"
        },
        "id": "HRfncdsZtsyx",
        "outputId": "e7cd0f21-83cb-4d6f-960b-6de115f12414"
      },
      "source": [
        "import math\r\n",
        "\r\n",
        "numbers = input(\"Provide D: \")\r\n",
        "numbers = numbers.split(',')\r\n",
        "\r\n",
        "result_list = []\r\n",
        "for D in numbers:\r\n",
        "    Q = round(math.sqrt(2 * 50 * int(D) / 30))\r\n",
        "    result_list.append(Q)\r\n",
        "\r\n",
        "print(result_list)"
      ],
      "execution_count": null,
      "outputs": [
        {
          "output_type": "stream",
          "text": [
            "Provide D: 100,150,180\n",
            "[18, 22, 24]\n"
          ],
          "name": "stdout"
        }
      ]
    },
    {
      "cell_type": "code",
      "metadata": {
        "colab": {
          "base_uri": "https://localhost:8080/"
        },
        "id": "E2myuMDuuJjQ",
        "outputId": "35ffc628-6d41-45f9-d62d-765f16158193"
      },
      "source": [
        "n=int(input(\"Enter a number:\"))\r\n",
        "d={x:x*x for x in range(1,n+1)}\r\n",
        "print(d)"
      ],
      "execution_count": null,
      "outputs": [
        {
          "output_type": "stream",
          "text": [
            "Enter a number:8\n",
            "{1: 1, 2: 4, 3: 9, 4: 16, 5: 25, 6: 36, 7: 49, 8: 64}\n"
          ],
          "name": "stdout"
        }
      ]
    },
    {
      "cell_type": "code",
      "metadata": {
        "colab": {
          "base_uri": "https://localhost:8080/"
        },
        "id": "0LbWyz2jue7W",
        "outputId": "251004ef-2879-4417-8438-4d4c3b8eaaca"
      },
      "source": [
        "row_num = int(input(\"Input number of rows: \"))\r\n",
        "col_num = int(input(\"Input number of columns: \"))\r\n",
        "multi_list = [[0 for col in range(col_num)] for row in range(row_num)]\r\n",
        "\r\n",
        "for row in range(row_num):\r\n",
        "    for col in range(col_num):\r\n",
        "        multi_list[row][col]= row*col\r\n",
        "\r\n",
        "print(multi_list)"
      ],
      "execution_count": null,
      "outputs": [
        {
          "output_type": "stream",
          "text": [
            "Input number of rows: 3\n",
            "Input number of columns: 5\n",
            "[[0, 0, 0, 0, 0], [0, 1, 2, 3, 4], [0, 2, 4, 6, 8]]\n"
          ],
          "name": "stdout"
        }
      ]
    },
    {
      "cell_type": "code",
      "metadata": {
        "colab": {
          "base_uri": "https://localhost:8080/"
        },
        "id": "Y_CA5vEIuu1U",
        "outputId": "808d3f8a-1944-46fb-d935-8dc86c09f853"
      },
      "source": [
        "items = input(\"\")\r\n",
        "words = [word for word in items.split(\",\")]\r\n",
        "print(\",\".join(sorted(list(set(words)))))"
      ],
      "execution_count": null,
      "outputs": [
        {
          "output_type": "stream",
          "text": [
            "without,hello,bag,world\n",
            "bag,hello,without,world\n"
          ],
          "name": "stdout"
        }
      ]
    },
    {
      "cell_type": "code",
      "metadata": {
        "colab": {
          "base_uri": "https://localhost:8080/"
        },
        "id": "6frFZI6kwSoR",
        "outputId": "b93f4e25-d9d2-4dac-eab4-99fb4246e871"
      },
      "source": [
        "items = []\r\n",
        "num = [x for x in input().split(',')]\r\n",
        "for p in num:\r\n",
        "    x = int(p, 2)\r\n",
        "    if not x%5:\r\n",
        "        items.append(p)\r\n",
        "print(','.join(items))"
      ],
      "execution_count": null,
      "outputs": [
        {
          "output_type": "stream",
          "text": [
            "0100,0011,1010,1001\n",
            "1010\n"
          ],
          "name": "stdout"
        }
      ]
    },
    {
      "cell_type": "code",
      "metadata": {
        "colab": {
          "base_uri": "https://localhost:8080/"
        },
        "id": "gABbI4Owwi1z",
        "outputId": "13811764-ff72-4a2b-84c0-8a215e30f4b4"
      },
      "source": [
        "items = []\r\n",
        "for i in range(1000, 3001):\r\n",
        "    s = str(i)\r\n",
        "    if (int(s[0])%2==0) and (int(s[1])%2==0) and (int(s[2])%2==0)and (int(s[3])%2==0):\r\n",
        "        items.append(s)\r\n",
        "print( \",\".join(items))"
      ],
      "execution_count": null,
      "outputs": [
        {
          "output_type": "stream",
          "text": [
            "2000,2002,2004,2006,2008,2020,2022,2024,2026,2028,2040,2042,2044,2046,2048,2060,2062,2064,2066,2068,2080,2082,2084,2086,2088,2200,2202,2204,2206,2208,2220,2222,2224,2226,2228,2240,2242,2244,2246,2248,2260,2262,2264,2266,2268,2280,2282,2284,2286,2288,2400,2402,2404,2406,2408,2420,2422,2424,2426,2428,2440,2442,2444,2446,2448,2460,2462,2464,2466,2468,2480,2482,2484,2486,2488,2600,2602,2604,2606,2608,2620,2622,2624,2626,2628,2640,2642,2644,2646,2648,2660,2662,2664,2666,2668,2680,2682,2684,2686,2688,2800,2802,2804,2806,2808,2820,2822,2824,2826,2828,2840,2842,2844,2846,2848,2860,2862,2864,2866,2868,2880,2882,2884,2886,2888\n"
          ],
          "name": "stdout"
        }
      ]
    },
    {
      "cell_type": "code",
      "metadata": {
        "colab": {
          "base_uri": "https://localhost:8080/"
        },
        "id": "b8syZ0eQxAiF",
        "outputId": "d9e16c1b-73ee-4339-f4f6-870fd3d8ad28"
      },
      "source": [
        "a = input()\r\n",
        "n1 = int( \"%s\" % a )\r\n",
        "n2 = int( \"%s%s\" % (a,a) )\r\n",
        "n3 = int( \"%s%s%s\" % (a,a,a) )\r\n",
        "n4 = int( \"%s%s%s%s\" % (a,a,a,a) )\r\n",
        "print(\"\", n1+n2+n3+n4)"
      ],
      "execution_count": null,
      "outputs": [
        {
          "output_type": "stream",
          "text": [
            "7\n",
            " 8638\n"
          ],
          "name": "stdout"
        }
      ]
    },
    {
      "cell_type": "code",
      "metadata": {
        "colab": {
          "base_uri": "https://localhost:8080/"
        },
        "id": "VDme1HAJygYI",
        "outputId": "20d2ae21-54af-4800-9bbd-edbf40c6ea11"
      },
      "source": [
        "numbers = input(\"\")\r\n",
        "#numbers = numbers.split(',')\r\n",
        "\r\n",
        "odd_list = [i for i in numbers.split(',') if (int(i) % 2 != 0)]\r\n",
        "print((\" \").join(odd_list))"
      ],
      "execution_count": null,
      "outputs": [
        {
          "output_type": "stream",
          "text": [
            "1,2,3,4,5,6,7,8,9\n",
            "1 3 5 7 9\n"
          ],
          "name": "stdout"
        }
      ]
    },
    {
      "cell_type": "code",
      "metadata": {
        "colab": {
          "base_uri": "https://localhost:8080/"
        },
        "id": "uiN9tUkazJOs",
        "outputId": "9131dac0-93d0-48f7-cff8-8e8f3ab5dfbf"
      },
      "source": [
        "total = 0\r\n",
        "while True:\r\n",
        "    d_w_trans = input()\r\n",
        "    if d_w_trans == \"\":\r\n",
        "        break\r\n",
        "    else:\r\n",
        "        d_w_trans = d_w_trans.split(\" \")\r\n",
        "        if d_w_trans[0] == \"D\":\r\n",
        "            total = total + int(d_w_trans[1])\r\n",
        "        elif d_w_trans[0] == \"W\":\r\n",
        "            total = total - int(d_w_trans[1])\r\n",
        "\r\n",
        "print(total)"
      ],
      "execution_count": null,
      "outputs": [
        {
          "output_type": "stream",
          "text": [
            "D 300\n",
            "D 300\n",
            "W 200\n",
            "D 100\n",
            "\n",
            "500\n"
          ],
          "name": "stdout"
        }
      ]
    },
    {
      "cell_type": "code",
      "metadata": {
        "colab": {
          "base_uri": "https://localhost:8080/"
        },
        "id": "Ro9bLcz8zuNI",
        "outputId": "bbc8f043-5299-4408-b6e9-b83a78965b98"
      },
      "source": [
        "import re\r\n",
        "\r\n",
        "passwords = input(\"Type in: \")\r\n",
        "passwords = passwords.split(\",\")\r\n",
        "\r\n",
        "accepted_pass = []\r\n",
        "for i in passwords:\r\n",
        "    \r\n",
        "    if len(i) < 6 or len(i) > 12:\r\n",
        "        continue\r\n",
        "\r\n",
        "    elif not re.search(\"([a-z])+\", i):\r\n",
        "        continue\r\n",
        "\r\n",
        "    elif not re.search(\"([A-Z])+\", i):\r\n",
        "        continue\r\n",
        "\r\n",
        "    elif not re.search(\"([0-9])+\", i):\r\n",
        "        continue\r\n",
        "\r\n",
        "    elif not re.search(\"([!@$%^&])+\", i):\r\n",
        "        continue\r\n",
        "\r\n",
        "    else:\r\n",
        "        accepted_pass.append(i)\r\n",
        "\r\n",
        "print((\" \").join(accepted_pass))"
      ],
      "execution_count": null,
      "outputs": [
        {
          "output_type": "stream",
          "text": [
            "Type in: ABd1234@1,a F1#,2w3E*,2We3345\n",
            "ABd1234@1\n"
          ],
          "name": "stdout"
        }
      ]
    },
    {
      "cell_type": "code",
      "metadata": {
        "colab": {
          "base_uri": "https://localhost:8080/"
        },
        "id": "1BBHL0qx0MBy",
        "outputId": "c8ca1f33-e2a6-457c-8586-5f771d0a1e86"
      },
      "source": [
        "from operator import itemgetter\r\n",
        "\r\n",
        "persons = []\r\n",
        "\r\n",
        "while True:\r\n",
        "\tline = input(\"\")\r\n",
        "\tif not line:\r\n",
        "\t\tbreak\r\n",
        "\tpersons.append(tuple(line.split(',')))\r\n",
        "\r\n",
        "persons = sorted(persons, key=itemgetter(0,1,2))\r\n",
        "\r\n",
        "for person in persons:\r\n",
        "\tprint (','.join(person))"
      ],
      "execution_count": null,
      "outputs": [
        {
          "output_type": "stream",
          "text": [
            "tamal,19,88\n",
            "manna,19,86\n",
            "aritro,19,90\n",
            "bijoy,19,99\n",
            "bishal,20,95\n",
            "\n",
            "aritro,19,90\n",
            "bijoy,19,99\n",
            "bishal,20,95\n",
            "manna,19,86\n",
            "tamal,19,88\n"
          ],
          "name": "stdout"
        }
      ]
    },
    {
      "cell_type": "code",
      "metadata": {
        "colab": {
          "base_uri": "https://localhost:8080/"
        },
        "id": "6L9ORQoi1Ptb",
        "outputId": "1fc10839-bf13-48a2-9faa-7d12777aac3e"
      },
      "source": [
        "n = int(input())\r\n",
        "divBy7 = [i for i in range(0, n) if (i % 7 == 0)]\r\n",
        "print(divBy7)\r\n",
        "\r\n",
        "def divChecker(n):\r\n",
        "    for i in range(n):\r\n",
        "        if i % 7 == 0:\r\n",
        "            value = True\r\n",
        "        else:\r\n",
        "            value = False\r\n",
        "        print(i, value)\r\n",
        "\r\n",
        "divChecker(n)"
      ],
      "execution_count": null,
      "outputs": [
        {
          "output_type": "stream",
          "text": [
            "50\n",
            "[0, 7, 14, 21, 28, 35, 42, 49]\n",
            "0 True\n",
            "1 False\n",
            "2 False\n",
            "3 False\n",
            "4 False\n",
            "5 False\n",
            "6 False\n",
            "7 True\n",
            "8 False\n",
            "9 False\n",
            "10 False\n",
            "11 False\n",
            "12 False\n",
            "13 False\n",
            "14 True\n",
            "15 False\n",
            "16 False\n",
            "17 False\n",
            "18 False\n",
            "19 False\n",
            "20 False\n",
            "21 True\n",
            "22 False\n",
            "23 False\n",
            "24 False\n",
            "25 False\n",
            "26 False\n",
            "27 False\n",
            "28 True\n",
            "29 False\n",
            "30 False\n",
            "31 False\n",
            "32 False\n",
            "33 False\n",
            "34 False\n",
            "35 True\n",
            "36 False\n",
            "37 False\n",
            "38 False\n",
            "39 False\n",
            "40 False\n",
            "41 False\n",
            "42 True\n",
            "43 False\n",
            "44 False\n",
            "45 False\n",
            "46 False\n",
            "47 False\n",
            "48 False\n",
            "49 True\n"
          ],
          "name": "stdout"
        }
      ]
    },
    {
      "cell_type": "code",
      "metadata": {
        "colab": {
          "base_uri": "https://localhost:8080/"
        },
        "id": "wIcNVVrm1lpX",
        "outputId": "74dfffbf-f7ab-4f14-fc7e-40588a79a635"
      },
      "source": [
        "import math\r\n",
        "x, y = 0, 0\r\n",
        "while True:\r\n",
        "    step = input(\" \")\r\n",
        "\r\n",
        "    if step == \"\":\r\n",
        "        break\r\n",
        "\r\n",
        "    else:\r\n",
        "        step = step.split(\" \")\r\n",
        "\r\n",
        "        if step[0] == \"UP\":\r\n",
        "            y = y + int(step[1])\r\n",
        "        elif step[0] == \"DOWN\":\r\n",
        "            y = y - int(step[1])\r\n",
        "        elif step[0] == \"LEFT\":\r\n",
        "            x = x - int(step[1])\r\n",
        "        elif step[0] == \"RIGHT\":\r\n",
        "            x = x + int(step[1])\r\n",
        "c = math.sqrt(x**2 + y**2)\r\n",
        "a=int(c)\r\n",
        "print(\"Distance:\", aD)"
      ],
      "execution_count": null,
      "outputs": [
        {
          "output_type": "stream",
          "text": [
            " UP 5\n",
            " DOWN 3\n",
            " LEFT 3\n",
            " RIGHT 2\n",
            " \n",
            "Distance: 2\n"
          ],
          "name": "stdout"
        }
      ]
    },
    {
      "cell_type": "code",
      "metadata": {
        "colab": {
          "base_uri": "https://localhost:8080/"
        },
        "id": "g4n7H2gPt2E5",
        "outputId": "afdf357b-9fdb-444f-ac86-e9149df4c645"
      },
      "source": [
        "class Person:\r\n",
        "    name = \"Person\"\r\n",
        "    \r\n",
        "    def __init__(self, name = None):\r\n",
        "        self.name = name\r\n",
        "\r\n",
        "jeffrey = Person(\"Soumyadeep\")\r\n",
        "print( \"%s name is %s\" % (Person.name, jeffrey.name))\r\n",
        "\r\n",
        "nico = Person()\r\n",
        "nico.name = \"Manna\"\r\n",
        "print (\"%s name is %s\" % (Person.name, nico.name))"
      ],
      "execution_count": null,
      "outputs": [
        {
          "output_type": "stream",
          "text": [
            "Person name is Soumyadeep\n",
            "Person name is Manna\n"
          ],
          "name": "stdout"
        }
      ]
    }
  ]
}