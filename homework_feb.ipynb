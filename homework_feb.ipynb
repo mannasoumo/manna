{
  "nbformat": 4,
  "nbformat_minor": 0,
  "metadata": {
    "colab": {
      "name": "homework feb.ipynb",
      "provenance": [],
      "authorship_tag": "ABX9TyNmulVV+IpsbMGNsFjB/kkJ",
      "include_colab_link": true
    },
    "kernelspec": {
      "name": "python3",
      "display_name": "Python 3"
    }
  },
  "cells": [
    {
      "cell_type": "markdown",
      "metadata": {
        "id": "view-in-github",
        "colab_type": "text"
      },
      "source": [
        "<a href=\"https://colab.research.google.com/github/mannasoumo/manna/blob/main/homework_feb.ipynb\" target=\"_parent\"><img src=\"https://colab.research.google.com/assets/colab-badge.svg\" alt=\"Open In Colab\"/></a>"
      ]
    },
    {
      "cell_type": "code",
      "metadata": {
        "colab": {
          "base_uri": "https://localhost:8080/"
        },
        "id": "gmTWqprSeqBt",
        "outputId": "43d4d2d1-c7d0-45e7-aa19-c8d1e87800be"
      },
      "source": [
        "import numpy as np\r\n",
        "array1 = np.array([0, 10, 20, 40, 60])\r\n",
        "array2 = np.array([10, 30, 40])\r\n",
        "print(\"Common values :\")\r\n",
        "print(np.intersect1d(array1, array2))"
      ],
      "execution_count": null,
      "outputs": [
        {
          "output_type": "stream",
          "text": [
            "Common values :\n",
            "[10 40]\n"
          ],
          "name": "stdout"
        }
      ]
    },
    {
      "cell_type": "code",
      "metadata": {
        "colab": {
          "base_uri": "https://localhost:8080/"
        },
        "id": "GhyrdR_ufvh1",
        "outputId": "b59d400f-b8df-4585-b398-b6194ea0704a"
      },
      "source": [
        "import numpy as np\r\n",
        "x = np.arange(1, 100)\r\n",
        "n= x[(x % 3 == 0) | (x % 5 == 0)]\r\n",
        "print(n.sum())"
      ],
      "execution_count": null,
      "outputs": [
        {
          "output_type": "stream",
          "text": [
            "2318\n"
          ],
          "name": "stdout"
        }
      ]
    },
    {
      "cell_type": "code",
      "metadata": {
        "colab": {
          "base_uri": "https://localhost:8080/"
        },
        "id": "jrkMWtH0LJ4G",
        "outputId": "617908c2-824e-40da-bf59-827c7669b522"
      },
      "source": [
        "import numpy as np \r\n",
        "arr = np.array([23, 12, 1, 3, 4, 5, 6]) \r\n",
        "k = 4 \r\n",
        "arr1 = np.sort(arr) \r\n",
        "print(arr1[:1])"
      ],
      "execution_count": null,
      "outputs": [
        {
          "output_type": "stream",
          "text": [
            "[1]\n"
          ],
          "name": "stdout"
        }
      ]
    },
    {
      "cell_type": "code",
      "metadata": {
        "colab": {
          "base_uri": "https://localhost:8080/"
        },
        "id": "0KPx_mNJLv1Y",
        "outputId": "e0f42cea-ede6-4c10-b3bb-c00f202e439d"
      },
      "source": [
        "name = input('What is your name \\n')\r\n",
        "age = int(input('What is your age \\n'))\r\n",
        "hundred = int((100-age) + 2021)\r\n",
        "print ('%s you will turn 100 years old in %s.' % (name, hundred))"
      ],
      "execution_count": null,
      "outputs": [
        {
          "output_type": "stream",
          "text": [
            "What is your name \n",
            "Manna\n",
            "What is your age \n",
            "20\n",
            "Manna you will turn 100 years old in 2101.\n"
          ],
          "name": "stdout"
        }
      ]
    },
    {
      "cell_type": "code",
      "metadata": {
        "id": "3g5zWmuxLgbE",
        "colab": {
          "base_uri": "https://localhost:8080/"
        },
        "outputId": "2c390ea0-e3a2-4975-d4aa-3a39ccb43992"
      },
      "source": [
        "i = 1\r\n",
        "number = int(input('Please enter a number: '))\r\n",
        "while i < number:\r\n",
        "   i += 1\r\n",
        "   if number % i == 0:\r\n",
        "      print(i)"
      ],
      "execution_count": 11,
      "outputs": [
        {
          "output_type": "stream",
          "text": [
            "Please enter a number: 20\n",
            "2\n",
            "4\n",
            "5\n",
            "10\n",
            "20\n"
          ],
          "name": "stdout"
        }
      ]
    },
    {
      "cell_type": "code",
      "metadata": {
        "colab": {
          "base_uri": "https://localhost:8080/"
        },
        "id": "DY7nBdE2O1Sq",
        "outputId": "4636f843-81ae-4f51-9570-c7ea6792fedd"
      },
      "source": [
        "two = [1, 1, 2, 3, 5, 8, 13, 21, 34, 55, 89]\r\n",
        "one = [1, 2, 3, 4, 5, 6, 7, 8, 9, 10, 11, 12, 13]\r\n",
        "both=[]\r\n",
        "if len(one) < len(two):\r\n",
        "    for i in one:\r\n",
        "        if i in two and i not in both:\r\n",
        "            both.append(i)      \r\n",
        "if len(one) > len(two):\r\n",
        "    for i in two:\r\n",
        "        if i in one and i not in both:\r\n",
        "            both.append(i)          \r\n",
        "print(both)"
      ],
      "execution_count": 12,
      "outputs": [
        {
          "output_type": "stream",
          "text": [
            "[1, 2, 3, 5, 8, 13]\n"
          ],
          "name": "stdout"
        }
      ]
    },
    {
      "cell_type": "code",
      "metadata": {
        "colab": {
          "base_uri": "https://localhost:8080/"
        },
        "id": "Gw5c5vd1PbqZ",
        "outputId": "ee1d0c01-73c5-4cfa-8c99-36ba406f3e85"
      },
      "source": [
        "name = input(\"Enter a string :\")\r\n",
        "if name[::-1] == name[0:]: \r\n",
        "\tprint(name, \" is a palindrome\")\r\n",
        "else: \r\n",
        "\tprint(name, \" is not a palindrome\")\r\n"
      ],
      "execution_count": 13,
      "outputs": [
        {
          "output_type": "stream",
          "text": [
            "Enter a string :malayalam\n",
            "malayalam  is a palindrome\n"
          ],
          "name": "stdout"
        }
      ]
    },
    {
      "cell_type": "code",
      "metadata": {
        "colab": {
          "base_uri": "https://localhost:8080/"
        },
        "id": "iiktpraaPzeg",
        "outputId": "21eb3714-c835-4c1b-8333-fc0b769457c9"
      },
      "source": [
        "a = [1, 4, 9, 16, 25, 36, 49, 64, 81, 100]\r\n",
        "b = [i for i in a if i % 2 == 0]\r\n",
        "print(b)"
      ],
      "execution_count": 14,
      "outputs": [
        {
          "output_type": "stream",
          "text": [
            "[4, 16, 36, 64, 100]\n"
          ],
          "name": "stdout"
        }
      ]
    },
    {
      "cell_type": "code",
      "metadata": {
        "colab": {
          "base_uri": "https://localhost:8080/"
        },
        "id": "PwpfqadiQMn8",
        "outputId": "010c33e3-844f-4742-da61-d3adaa6ee19b"
      },
      "source": [
        "import random\r\n",
        "number = random.randint(1,9)\r\n",
        "guess = int(input(\"What's your guess?\"))\r\n",
        "if guess < number:\r\n",
        "  print(\"Too low!\")\r\n",
        "elif guess > number:\r\n",
        "  print(\"Too high!\")\r\n",
        "else:\r\n",
        "  print(\"Exactly rignt!\")"
      ],
      "execution_count": 22,
      "outputs": [
        {
          "output_type": "stream",
          "text": [
            "What's your guess?5\n",
            "Too low!\n"
          ],
          "name": "stdout"
        }
      ]
    }
  ]
}